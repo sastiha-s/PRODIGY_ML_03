{
 "cells": [
  {
   "cell_type": "code",
   "execution_count": 1,
   "id": "5005caf9",
   "metadata": {
    "execution": {
     "iopub.execute_input": "2021-12-09T16:40:52.277989Z",
     "iopub.status.busy": "2021-12-09T16:40:52.277265Z",
     "iopub.status.idle": "2021-12-09T16:40:56.308366Z",
     "shell.execute_reply": "2021-12-09T16:40:56.307349Z",
     "shell.execute_reply.started": "2021-12-09T16:12:49.375038Z"
    },
    "papermill": {
     "duration": 4.063465,
     "end_time": "2021-12-09T16:40:56.308532",
     "exception": false,
     "start_time": "2021-12-09T16:40:52.245067",
     "status": "completed"
    },
    "tags": []
   },
   "outputs": [],
   "source": [
    "import pandas as pd\n",
    "import numpy as np\n",
    "import tensorflow as tf\n",
    "\n",
    "import warnings\n",
    "warnings.filterwarnings('ignore')"
   ]
  },
  {
   "cell_type": "code",
   "execution_count": 2,
   "id": "f467f7fa",
   "metadata": {
    "execution": {
     "iopub.execute_input": "2021-12-09T16:40:56.403145Z",
     "iopub.status.busy": "2021-12-09T16:40:56.402510Z",
     "iopub.status.idle": "2021-12-09T16:40:58.457987Z",
     "shell.execute_reply": "2021-12-09T16:40:58.457456Z",
     "shell.execute_reply.started": "2021-12-09T16:12:49.382961Z"
    },
    "papermill": {
     "duration": 2.082312,
     "end_time": "2021-12-09T16:40:58.458115",
     "exception": false,
     "start_time": "2021-12-09T16:40:56.375803",
     "status": "completed"
    },
    "tags": []
   },
   "outputs": [
    {
     "name": "stderr",
     "output_type": "stream",
     "text": [
      "2021-12-09 16:40:56.455114: I tensorflow/core/platform/cpu_feature_guard.cc:142] This TensorFlow binary is optimized with oneAPI Deep Neural Network Library (oneDNN) to use the following CPU instructions in performance-critical operations:  AVX2 AVX512F FMA\n",
      "To enable them in other operations, rebuild TensorFlow with the appropriate compiler flags.\n",
      "2021-12-09 16:40:56.506724: I tensorflow/stream_executor/cuda/cuda_gpu_executor.cc:937] successful NUMA node read from SysFS had negative value (-1), but there must be at least one NUMA node, so returning NUMA node zero\n",
      "2021-12-09 16:40:56.593976: I tensorflow/stream_executor/cuda/cuda_gpu_executor.cc:937] successful NUMA node read from SysFS had negative value (-1), but there must be at least one NUMA node, so returning NUMA node zero\n",
      "2021-12-09 16:40:56.594935: I tensorflow/stream_executor/cuda/cuda_gpu_executor.cc:937] successful NUMA node read from SysFS had negative value (-1), but there must be at least one NUMA node, so returning NUMA node zero\n",
      "2021-12-09 16:40:58.447036: I tensorflow/stream_executor/cuda/cuda_gpu_executor.cc:937] successful NUMA node read from SysFS had negative value (-1), but there must be at least one NUMA node, so returning NUMA node zero\n",
      "2021-12-09 16:40:58.448272: I tensorflow/stream_executor/cuda/cuda_gpu_executor.cc:937] successful NUMA node read from SysFS had negative value (-1), but there must be at least one NUMA node, so returning NUMA node zero\n",
      "2021-12-09 16:40:58.449259: I tensorflow/stream_executor/cuda/cuda_gpu_executor.cc:937] successful NUMA node read from SysFS had negative value (-1), but there must be at least one NUMA node, so returning NUMA node zero\n",
      "2021-12-09 16:40:58.450184: I tensorflow/core/common_runtime/gpu/gpu_device.cc:1510] Created device /job:localhost/replica:0/task:0/device:GPU:0 with 9768 MB memory:  -> device: 0, name: Tesla P100-PCIE-16GB, pci bus id: 0000:00:04.0, compute capability: 6.0\n"
     ]
    }
   ],
   "source": [
    "from tensorflow.compat.v1 import ConfigProto\n",
    "from tensorflow.compat.v1 import InteractiveSession\n",
    "\n",
    "config = ConfigProto()\n",
    "config.gpu_options.per_process_gpu_memory_fraction = 0.6\n",
    "config.gpu_options.allow_growth = True\n",
    "session = InteractiveSession(config=config)"
   ]
  },
  {
   "cell_type": "code",
   "execution_count": 3,
   "id": "7b25bb3c",
   "metadata": {
    "execution": {
     "iopub.execute_input": "2021-12-09T16:40:58.555137Z",
     "iopub.status.busy": "2021-12-09T16:40:58.554344Z",
     "iopub.status.idle": "2021-12-09T16:41:01.112941Z",
     "shell.execute_reply": "2021-12-09T16:41:01.113516Z",
     "shell.execute_reply.started": "2021-12-09T16:12:49.401944Z"
    },
    "papermill": {
     "duration": 2.586195,
     "end_time": "2021-12-09T16:41:01.113744",
     "exception": false,
     "start_time": "2021-12-09T16:40:58.527549",
     "status": "completed"
    },
    "tags": []
   },
   "outputs": [
    {
     "name": "stdout",
     "output_type": "stream",
     "text": [
      "Found 8005 images belonging to 2 classes.\n"
     ]
    }
   ],
   "source": [
    "from tensorflow.keras.preprocessing.image import ImageDataGenerator\n",
    "\n",
    "datagen = ImageDataGenerator(rescale=1./255, shear_range=0.2, zoom_range=0.2, horizontal_flip=True)\n",
    "\n",
    "training_set = datagen.flow_from_directory(\n",
    "        \"../input/cat-and-dog/training_set/training_set/\",\n",
    "        target_size=(64, 64),\n",
    "        batch_size=32,\n",
    "        class_mode=\"binary\"\n",
    "      )\n"
   ]
  },
  {
   "cell_type": "markdown",
   "id": "178346cd",
   "metadata": {
    "papermill": {
     "duration": 0.034913,
     "end_time": "2021-12-09T16:41:01.184943",
     "exception": false,
     "start_time": "2021-12-09T16:41:01.150030",
     "status": "completed"
    },
    "tags": []
   },
   "source": [
    "### Preprocessing the test Data using ImageDataGenerator"
   ]
  },
  {
   "cell_type": "code",
   "execution_count": 4,
   "id": "33356abb",
   "metadata": {
    "execution": {
     "iopub.execute_input": "2021-12-09T16:41:01.261890Z",
     "iopub.status.busy": "2021-12-09T16:41:01.261094Z",
     "iopub.status.idle": "2021-12-09T16:41:01.488030Z",
     "shell.execute_reply": "2021-12-09T16:41:01.488803Z",
     "shell.execute_reply.started": "2021-12-09T16:12:50.933152Z"
    },
    "papermill": {
     "duration": 0.269435,
     "end_time": "2021-12-09T16:41:01.489070",
     "exception": false,
     "start_time": "2021-12-09T16:41:01.219635",
     "status": "completed"
    },
    "tags": []
   },
   "outputs": [
    {
     "name": "stdout",
     "output_type": "stream",
     "text": [
      "Found 2023 images belonging to 2 classes.\n"
     ]
    }
   ],
   "source": [
    "datagen1 = ImageDataGenerator(rescale=1./255)\n",
    "\n",
    "test_set = datagen1.flow_from_directory(\n",
    "        \"../input/cat-and-dog/test_set/test_set\",\n",
    "        target_size=(64, 64),\n",
    "        batch_size=32,\n",
    "        class_mode=\"binary\"\n",
    "      )"
   ]
  },
  {
   "cell_type": "markdown",
   "id": "d4965f92",
   "metadata": {
    "papermill": {
     "duration": 0.037715,
     "end_time": "2021-12-09T16:41:01.565123",
     "exception": false,
     "start_time": "2021-12-09T16:41:01.527408",
     "status": "completed"
    },
    "tags": []
   },
   "source": [
    "# Creating the Model"
   ]
  },
  {
   "cell_type": "markdown",
   "id": "3ac28e91",
   "metadata": {
    "papermill": {
     "duration": 0.037747,
     "end_time": "2021-12-09T16:41:01.640320",
     "exception": false,
     "start_time": "2021-12-09T16:41:01.602573",
     "status": "completed"
    },
    "tags": []
   },
   "source": [
    "### Importing useful models for CNN Layers"
   ]
  },
  {
   "cell_type": "code",
   "execution_count": 5,
   "id": "17f5510d",
   "metadata": {
    "execution": {
     "iopub.execute_input": "2021-12-09T16:41:01.723446Z",
     "iopub.status.busy": "2021-12-09T16:41:01.722577Z",
     "iopub.status.idle": "2021-12-09T16:41:01.724800Z",
     "shell.execute_reply": "2021-12-09T16:41:01.724153Z",
     "shell.execute_reply.started": "2021-12-09T16:12:51.049994Z"
    },
    "papermill": {
     "duration": 0.047156,
     "end_time": "2021-12-09T16:41:01.724965",
     "exception": false,
     "start_time": "2021-12-09T16:41:01.677809",
     "status": "completed"
    },
    "tags": []
   },
   "outputs": [],
   "source": [
    "from tensorflow.keras.layers import Conv2D\n",
    "from tensorflow.keras.layers import Dense"
   ]
  },
  {
   "cell_type": "code",
   "execution_count": 6,
   "id": "614fb086",
   "metadata": {
    "execution": {
     "iopub.execute_input": "2021-12-09T16:41:01.807373Z",
     "iopub.status.busy": "2021-12-09T16:41:01.806524Z",
     "iopub.status.idle": "2021-12-09T16:41:01.808792Z",
     "shell.execute_reply": "2021-12-09T16:41:01.808075Z",
     "shell.execute_reply.started": "2021-12-09T16:12:51.056893Z"
    },
    "papermill": {
     "duration": 0.046417,
     "end_time": "2021-12-09T16:41:01.808947",
     "exception": false,
     "start_time": "2021-12-09T16:41:01.762530",
     "status": "completed"
    },
    "tags": []
   },
   "outputs": [],
   "source": [
    "from tensorflow.keras.regularizers import l2"
   ]
  },
  {
   "cell_type": "code",
   "execution_count": 7,
   "id": "47928ef6",
   "metadata": {
    "execution": {
     "iopub.execute_input": "2021-12-09T16:41:01.948751Z",
     "iopub.status.busy": "2021-12-09T16:41:01.948155Z",
     "iopub.status.idle": "2021-12-09T16:41:01.987460Z",
     "shell.execute_reply": "2021-12-09T16:41:01.987920Z",
     "shell.execute_reply.started": "2021-12-09T16:12:51.066484Z"
    },
    "papermill": {
     "duration": 0.066833,
     "end_time": "2021-12-09T16:41:01.988055",
     "exception": false,
     "start_time": "2021-12-09T16:41:01.921222",
     "status": "completed"
    },
    "tags": []
   },
   "outputs": [
    {
     "name": "stderr",
     "output_type": "stream",
     "text": [
      "2021-12-09 16:41:01.961340: I tensorflow/stream_executor/cuda/cuda_gpu_executor.cc:937] successful NUMA node read from SysFS had negative value (-1), but there must be at least one NUMA node, so returning NUMA node zero\n",
      "2021-12-09 16:41:01.962187: I tensorflow/stream_executor/cuda/cuda_gpu_executor.cc:937] successful NUMA node read from SysFS had negative value (-1), but there must be at least one NUMA node, so returning NUMA node zero\n",
      "2021-12-09 16:41:01.962808: I tensorflow/stream_executor/cuda/cuda_gpu_executor.cc:937] successful NUMA node read from SysFS had negative value (-1), but there must be at least one NUMA node, so returning NUMA node zero\n",
      "2021-12-09 16:41:01.963716: I tensorflow/stream_executor/cuda/cuda_gpu_executor.cc:937] successful NUMA node read from SysFS had negative value (-1), but there must be at least one NUMA node, so returning NUMA node zero\n",
      "2021-12-09 16:41:01.964404: I tensorflow/stream_executor/cuda/cuda_gpu_executor.cc:937] successful NUMA node read from SysFS had negative value (-1), but there must be at least one NUMA node, so returning NUMA node zero\n",
      "2021-12-09 16:41:01.965014: I tensorflow/stream_executor/cuda/cuda_gpu_executor.cc:937] successful NUMA node read from SysFS had negative value (-1), but there must be at least one NUMA node, so returning NUMA node zero\n",
      "2021-12-09 16:41:01.965670: I tensorflow/stream_executor/cuda/cuda_gpu_executor.cc:937] successful NUMA node read from SysFS had negative value (-1), but there must be at least one NUMA node, so returning NUMA node zero\n",
      "2021-12-09 16:41:01.966277: I tensorflow/stream_executor/cuda/cuda_gpu_executor.cc:937] successful NUMA node read from SysFS had negative value (-1), but there must be at least one NUMA node, so returning NUMA node zero\n",
      "2021-12-09 16:41:01.966881: I tensorflow/core/common_runtime/gpu/gpu_device.cc:1510] Created device /job:localhost/replica:0/task:0/device:GPU:0 with 9768 MB memory:  -> device: 0, name: Tesla P100-PCIE-16GB, pci bus id: 0000:00:04.0, compute capability: 6.0\n"
     ]
    }
   ],
   "source": [
    "cnn = tf.keras.models.Sequential()"
   ]
  },
  {
   "cell_type": "code",
   "execution_count": 8,
   "id": "606c2e76",
   "metadata": {
    "execution": {
     "iopub.execute_input": "2021-12-09T16:41:02.094073Z",
     "iopub.status.busy": "2021-12-09T16:41:02.091109Z",
     "iopub.status.idle": "2021-12-09T16:41:02.127810Z",
     "shell.execute_reply": "2021-12-09T16:41:02.127413Z",
     "shell.execute_reply.started": "2021-12-09T16:12:51.078905Z"
    },
    "papermill": {
     "duration": 0.069426,
     "end_time": "2021-12-09T16:41:02.127954",
     "exception": false,
     "start_time": "2021-12-09T16:41:02.058528",
     "status": "completed"
    },
    "tags": []
   },
   "outputs": [],
   "source": [
    "cnn.add(tf.keras.layers.Conv2D(filters=32,padding=\"same\",kernel_size=3, activation='relu', strides=2, input_shape=[64, 64, 3]))"
   ]
  },
  {
   "cell_type": "code",
   "execution_count": 9,
   "id": "d6abdcf7",
   "metadata": {
    "execution": {
     "iopub.execute_input": "2021-12-09T16:41:02.234084Z",
     "iopub.status.busy": "2021-12-09T16:41:02.231455Z",
     "iopub.status.idle": "2021-12-09T16:41:02.239047Z",
     "shell.execute_reply": "2021-12-09T16:41:02.238539Z",
     "shell.execute_reply.started": "2021-12-09T16:12:51.096071Z"
    },
    "papermill": {
     "duration": 0.039407,
     "end_time": "2021-12-09T16:41:02.239164",
     "exception": false,
     "start_time": "2021-12-09T16:41:02.199757",
     "status": "completed"
    },
    "tags": []
   },
   "outputs": [],
   "source": [
    "cnn.add(tf.keras.layers.MaxPool2D(pool_size=2, strides=2))"
   ]
  },
  {
   "cell_type": "code",
   "execution_count": 10,
   "id": "5e83d557",
   "metadata": {
    "execution": {
     "iopub.execute_input": "2021-12-09T16:41:02.347715Z",
     "iopub.status.busy": "2021-12-09T16:41:02.346896Z",
     "iopub.status.idle": "2021-12-09T16:41:02.357173Z",
     "shell.execute_reply": "2021-12-09T16:41:02.356718Z",
     "shell.execute_reply.started": "2021-12-09T16:12:51.106671Z"
    },
    "papermill": {
     "duration": 0.041315,
     "end_time": "2021-12-09T16:41:02.357277",
     "exception": false,
     "start_time": "2021-12-09T16:41:02.315962",
     "status": "completed"
    },
    "tags": []
   },
   "outputs": [],
   "source": [
    "cnn.add(tf.keras.layers.Conv2D(filters=32,padding='same',kernel_size=3, activation='relu'))\n",
    "cnn.add(tf.keras.layers.MaxPool2D(pool_size=2, strides=2))"
   ]
  },
  {
   "cell_type": "code",
   "execution_count": 11,
   "id": "2739732c",
   "metadata": {
    "execution": {
     "iopub.execute_input": "2021-12-09T16:41:02.456520Z",
     "iopub.status.busy": "2021-12-09T16:41:02.456002Z",
     "iopub.status.idle": "2021-12-09T16:41:02.461973Z",
     "shell.execute_reply": "2021-12-09T16:41:02.461543Z",
     "shell.execute_reply.started": "2021-12-09T16:12:51.124106Z"
    },
    "papermill": {
     "duration": 0.033814,
     "end_time": "2021-12-09T16:41:02.462102",
     "exception": false,
     "start_time": "2021-12-09T16:41:02.428288",
     "status": "completed"
    },
    "tags": []
   },
   "outputs": [],
   "source": [
    "cnn.add(tf.keras.layers.Flatten())"
   ]
  },
  {
   "cell_type": "code",
   "execution_count": 12,
   "id": "b242f827",
   "metadata": {
    "execution": {
     "iopub.execute_input": "2021-12-09T16:41:02.573498Z",
     "iopub.status.busy": "2021-12-09T16:41:02.572682Z",
     "iopub.status.idle": "2021-12-09T16:41:02.577713Z",
     "shell.execute_reply": "2021-12-09T16:41:02.577327Z",
     "shell.execute_reply.started": "2021-12-09T16:12:51.136721Z"
    },
    "papermill": {
     "duration": 0.037421,
     "end_time": "2021-12-09T16:41:02.577814",
     "exception": false,
     "start_time": "2021-12-09T16:41:02.540393",
     "status": "completed"
    },
    "tags": []
   },
   "outputs": [],
   "source": [
    "cnn.add(tf.keras.layers.Dense(units=128, activation='relu'))"
   ]
  },
  {
   "cell_type": "code",
   "execution_count": 13,
   "id": "2cd64d7c",
   "metadata": {
    "execution": {
     "iopub.execute_input": "2021-12-09T16:41:02.678489Z",
     "iopub.status.busy": "2021-12-09T16:41:02.674631Z",
     "iopub.status.idle": "2021-12-09T16:41:02.685467Z",
     "shell.execute_reply": "2021-12-09T16:41:02.685061Z",
     "shell.execute_reply.started": "2021-12-09T16:12:51.151023Z"
    },
    "papermill": {
     "duration": 0.037286,
     "end_time": "2021-12-09T16:41:02.685571",
     "exception": false,
     "start_time": "2021-12-09T16:41:02.648285",
     "status": "completed"
    },
    "tags": []
   },
   "outputs": [],
   "source": [
    "cnn.add(Dense(1, kernel_regularizer=tf.keras.regularizers.l2(0.01),activation\n",
    "             ='linear'))"
   ]
  },
  {
   "cell_type": "code",
   "execution_count": 14,
   "id": "afedf5ac",
   "metadata": {
    "execution": {
     "iopub.execute_input": "2021-12-09T16:41:02.784390Z",
     "iopub.status.busy": "2021-12-09T16:41:02.783255Z",
     "iopub.status.idle": "2021-12-09T16:41:02.789302Z",
     "shell.execute_reply": "2021-12-09T16:41:02.789952Z",
     "shell.execute_reply.started": "2021-12-09T16:12:51.165547Z"
    },
    "papermill": {
     "duration": 0.034184,
     "end_time": "2021-12-09T16:41:02.790106",
     "exception": false,
     "start_time": "2021-12-09T16:41:02.755922",
     "status": "completed"
    },
    "tags": []
   },
   "outputs": [
    {
     "name": "stdout",
     "output_type": "stream",
     "text": [
      "Model: \"sequential\"\n",
      "_________________________________________________________________\n",
      "Layer (type)                 Output Shape              Param #   \n",
      "=================================================================\n",
      "conv2d (Conv2D)              (None, 32, 32, 32)        896       \n",
      "_________________________________________________________________\n",
      "max_pooling2d (MaxPooling2D) (None, 16, 16, 32)        0         \n",
      "_________________________________________________________________\n",
      "conv2d_1 (Conv2D)            (None, 16, 16, 32)        9248      \n",
      "_________________________________________________________________\n",
      "max_pooling2d_1 (MaxPooling2 (None, 8, 8, 32)          0         \n",
      "_________________________________________________________________\n",
      "flatten (Flatten)            (None, 2048)              0         \n",
      "_________________________________________________________________\n",
      "dense (Dense)                (None, 128)               262272    \n",
      "_________________________________________________________________\n",
      "dense_1 (Dense)              (None, 1)                 129       \n",
      "=================================================================\n",
      "Total params: 272,545\n",
      "Trainable params: 272,545\n",
      "Non-trainable params: 0\n",
      "_________________________________________________________________\n"
     ]
    }
   ],
   "source": [
    "cnn.summary()"
   ]
  },
  {
   "cell_type": "code",
   "execution_count": 15,
   "id": "0562c757",
   "metadata": {
    "execution": {
     "iopub.execute_input": "2021-12-09T16:41:02.943095Z",
     "iopub.status.busy": "2021-12-09T16:41:02.939713Z",
     "iopub.status.idle": "2021-12-09T16:41:02.949428Z",
     "shell.execute_reply": "2021-12-09T16:41:02.948969Z",
     "shell.execute_reply.started": "2021-12-09T16:12:51.177472Z"
    },
    "papermill": {
     "duration": 0.038279,
     "end_time": "2021-12-09T16:41:02.949535",
     "exception": false,
     "start_time": "2021-12-09T16:41:02.911256",
     "status": "completed"
    },
    "tags": []
   },
   "outputs": [],
   "source": [
    "cnn.compile(optimizer = 'adam', loss = 'hinge', metrics = ['accuracy'])"
   ]
  },
  {
   "cell_type": "code",
   "execution_count": 16,
   "id": "a5c20958",
   "metadata": {
    "execution": {
     "iopub.execute_input": "2021-12-09T16:41:03.048316Z",
     "iopub.status.busy": "2021-12-09T16:41:03.047651Z",
     "iopub.status.idle": "2021-12-09T16:50:57.545418Z",
     "shell.execute_reply": "2021-12-09T16:50:57.544964Z",
     "shell.execute_reply.started": "2021-12-09T16:12:51.189191Z"
    },
    "papermill": {
     "duration": 594.524275,
     "end_time": "2021-12-09T16:50:57.545558",
     "exception": false,
     "start_time": "2021-12-09T16:41:03.021283",
     "status": "completed"
    },
    "tags": []
   },
   "outputs": [
    {
     "name": "stderr",
     "output_type": "stream",
     "text": [
      "2021-12-09 16:41:03.363611: I tensorflow/compiler/mlir/mlir_graph_optimization_pass.cc:185] None of the MLIR Optimization Passes are enabled (registered 2)\n"
     ]
    },
    {
     "name": "stdout",
     "output_type": "stream",
     "text": [
      "Epoch 1/15\n"
     ]
    },
    {
     "name": "stderr",
     "output_type": "stream",
     "text": [
      "2021-12-09 16:41:04.870056: I tensorflow/stream_executor/cuda/cuda_dnn.cc:369] Loaded cuDNN version 8005\n"
     ]
    },
    {
     "name": "stdout",
     "output_type": "stream",
     "text": [
      "251/251 [==============================] - 66s 237ms/step - loss: 0.8769 - accuracy: 0.5836 - val_loss: 0.7602 - val_accuracy: 0.6915\n",
      "Epoch 2/15\n",
      "251/251 [==============================] - 35s 138ms/step - loss: 0.7014 - accuracy: 0.6723 - val_loss: 0.7429 - val_accuracy: 0.7227\n",
      "Epoch 3/15\n",
      "251/251 [==============================] - 34s 137ms/step - loss: 0.6521 - accuracy: 0.6908 - val_loss: 0.6242 - val_accuracy: 0.7390\n",
      "Epoch 4/15\n",
      "251/251 [==============================] - 35s 139ms/step - loss: 0.6204 - accuracy: 0.7093 - val_loss: 0.6099 - val_accuracy: 0.7459\n",
      "Epoch 5/15\n",
      "251/251 [==============================] - 35s 138ms/step - loss: 0.5918 - accuracy: 0.7210 - val_loss: 0.6025 - val_accuracy: 0.7533\n",
      "Epoch 6/15\n",
      "251/251 [==============================] - 35s 137ms/step - loss: 0.5750 - accuracy: 0.7265 - val_loss: 0.5585 - val_accuracy: 0.7400\n",
      "Epoch 7/15\n",
      "251/251 [==============================] - 35s 138ms/step - loss: 0.5450 - accuracy: 0.7433 - val_loss: 0.6206 - val_accuracy: 0.7657\n",
      "Epoch 8/15\n",
      "251/251 [==============================] - 35s 138ms/step - loss: 0.5389 - accuracy: 0.7465 - val_loss: 0.6027 - val_accuracy: 0.7637\n",
      "Epoch 9/15\n",
      "251/251 [==============================] - 35s 139ms/step - loss: 0.5166 - accuracy: 0.7608 - val_loss: 0.5193 - val_accuracy: 0.7731\n",
      "Epoch 10/15\n",
      "251/251 [==============================] - 35s 138ms/step - loss: 0.5258 - accuracy: 0.7564 - val_loss: 0.5868 - val_accuracy: 0.7889\n",
      "Epoch 11/15\n",
      "251/251 [==============================] - 35s 139ms/step - loss: 0.5012 - accuracy: 0.7688 - val_loss: 0.5322 - val_accuracy: 0.7336\n",
      "Epoch 12/15\n",
      "251/251 [==============================] - 35s 138ms/step - loss: 0.4954 - accuracy: 0.7703 - val_loss: 0.4978 - val_accuracy: 0.7721\n",
      "Epoch 13/15\n",
      "251/251 [==============================] - 35s 140ms/step - loss: 0.4830 - accuracy: 0.7776 - val_loss: 0.6500 - val_accuracy: 0.7677\n",
      "Epoch 14/15\n",
      "251/251 [==============================] - 36s 142ms/step - loss: 0.4794 - accuracy: 0.7746 - val_loss: 0.5328 - val_accuracy: 0.7973\n",
      "Epoch 15/15\n",
      "251/251 [==============================] - 35s 140ms/step - loss: 0.4760 - accuracy: 0.7780 - val_loss: 0.4925 - val_accuracy: 0.7914\n"
     ]
    }
   ],
   "source": [
    "r=cnn.fit(x = training_set, validation_data = test_set, epochs = 15)"
   ]
  },
  {
   "cell_type": "code",
   "execution_count": 17,
   "id": "55120a1a",
   "metadata": {
    "execution": {
     "iopub.execute_input": "2021-12-09T16:51:01.730148Z",
     "iopub.status.busy": "2021-12-09T16:51:01.729056Z",
     "iopub.status.idle": "2021-12-09T16:51:02.110801Z",
     "shell.execute_reply": "2021-12-09T16:51:02.110380Z",
     "shell.execute_reply.started": "2021-12-09T16:21:59.058626Z"
    },
    "papermill": {
     "duration": 1.362963,
     "end_time": "2021-12-09T16:51:02.110951",
     "exception": false,
     "start_time": "2021-12-09T16:51:00.747988",
     "status": "completed"
    },
    "tags": []
   },
   "outputs": [
    {
     "data": {
      "image/png": "[encoded data removed]",
      "text/plain": [
       "<Figure size 432x288 with 1 Axes>"
      ]
     },
     "metadata": {
      "needs_background": "light"
     },
     "output_type": "display_data"
    },
    {
     "data": {
      "image/png": "[encoded data removed]",
      "text/plain": [
       "<Figure size 432x288 with 1 Axes>"
      ]
     },
     "metadata": {
      "needs_background": "light"
     },
     "output_type": "display_data"
    }
   ],
   "source": [
    "# plot the loss\n",
    "import matplotlib.pyplot as plt\n",
    "plt.plot(r.history['loss'], label='train loss')\n",
    "plt.plot(r.history['val_loss'], label='val loss')\n",
    "plt.legend()\n",
    "plt.show()\n",
    "\n",
    "# plot the accuracy\n",
    "plt.plot(r.history['accuracy'], label='train acc')\n",
    "plt.plot(r.history['val_accuracy'], label='val acc')\n",
    "plt.legend()\n",
    "plt.show()"
   ]
  },
  {
   "cell_type": "code",
   "execution_count": 18,
   "id": "29b453a2",
   "metadata": {
    "execution": {
     "iopub.execute_input": "2021-12-09T16:51:06.121683Z",
     "iopub.status.busy": "2021-12-09T16:51:06.120881Z",
     "iopub.status.idle": "2021-12-09T16:51:06.154749Z",
     "shell.execute_reply": "2021-12-09T16:51:06.155181Z",
     "shell.execute_reply.started": "2021-12-09T16:21:59.442276Z"
    },
    "papermill": {
     "duration": 1.009299,
     "end_time": "2021-12-09T16:51:06.155329",
     "exception": false,
     "start_time": "2021-12-09T16:51:05.146030",
     "status": "completed"
    },
    "tags": []
   },
   "outputs": [],
   "source": [
    "from tensorflow.keras.models import load_model\n",
    "\n",
    "cnn.save('./model_rcat_dog.h5')"
   ]
  },
  {
   "cell_type": "code",
   "execution_count": 19,
   "id": "a83444f5",
   "metadata": {
    "execution": {
     "iopub.execute_input": "2021-12-09T16:51:10.073824Z",
     "iopub.status.busy": "2021-12-09T16:51:10.073310Z",
     "iopub.status.idle": "2021-12-09T16:51:10.204002Z",
     "shell.execute_reply": "2021-12-09T16:51:10.203517Z",
     "shell.execute_reply.started": "2021-12-09T16:21:59.599041Z"
    },
    "papermill": {
     "duration": 1.111535,
     "end_time": "2021-12-09T16:51:10.204136",
     "exception": false,
     "start_time": "2021-12-09T16:51:09.092601",
     "status": "completed"
    },
    "tags": []
   },
   "outputs": [],
   "source": [
    "from tensorflow.keras.preprocessing import image\n",
    "test_image = image.load_img('../input/cat-and-dog/training_set/training_set/dogs/dog.1023.jpg', target_size = (64,64))\n",
    "test_image = image.img_to_array(test_image)\n",
    "test_image=test_image/255\n",
    "test_image = np.expand_dims(test_image, axis = 0)\n",
    "result = cnn.predict(test_image)"
   ]
  },
  {
   "cell_type": "code",
   "execution_count": 20,
   "id": "7de03a0c",
   "metadata": {
    "execution": {
     "iopub.execute_input": "2021-12-09T16:51:12.440582Z",
     "iopub.status.busy": "2021-12-09T16:51:12.438791Z",
     "iopub.status.idle": "2021-12-09T16:51:12.443143Z",
     "shell.execute_reply": "2021-12-09T16:51:12.442499Z",
     "shell.execute_reply.started": "2021-12-09T16:21:59.695901Z"
    },
    "papermill": {
     "duration": 0.982728,
     "end_time": "2021-12-09T16:51:12.443295",
     "exception": false,
     "start_time": "2021-12-09T16:51:11.460567",
     "status": "completed"
    },
    "tags": []
   },
   "outputs": [
    {
     "name": "stdout",
     "output_type": "stream",
     "text": [
      "The image classified is dog\n"
     ]
    }
   ],
   "source": [
    "if result[0]<0:\n",
    "    print(\"The image classified is cat\")\n",
    "else:\n",
    "    print(\"The image classified is dog\")"
   ]
  }
 ],
 "metadata": {
  "kernelspec": {
   "display_name": "Python 3 (ipykernel)",
   "language": "python",
   "name": "python3"
  },
  "language_info": {
   "codemirror_mode": {
    "name": "ipython",
    "version": 3
   },
   "file_extension": ".py",
   "mimetype": "text/x-python",
   "name": "python",
   "nbconvert_exporter": "python",
   "pygments_lexer": "ipython3",
   "version": "3.11.4"
  },
  "papermill": {
   "default_parameters": {},
   "duration": 635.069725,
   "end_time": "2021-12-09T16:51:18.907455",
   "environment_variables": {},
   "exception": null,
   "input_path": "__notebook__.ipynb",
   "output_path": "__notebook__.ipynb",
   "parameters": {},
   "start_time": "2021-12-09T16:40:43.837730",
   "version": "2.3.3"
  }
 },
 "nbformat": 4,
 "nbformat_minor": 5
}
